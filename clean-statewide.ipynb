{
 "cells": [
  {
   "cell_type": "code",
   "execution_count": 2,
   "metadata": {},
   "outputs": [],
   "source": [
    "import pandas as pd"
   ]
  },
  {
   "cell_type": "code",
   "execution_count": 3,
   "metadata": {},
   "outputs": [],
   "source": [
    "file = 'raw/city-county-prop-tax-analysis.xlsx'\n",
    "dtype = {\n",
    "    'County #': str\n",
    "}\n",
    "# Note: read_excel() pulls from Excel files like read_csv() pulls from .csv's\n",
    "raw_total_tax = pd.read_excel(file, dtype=dtype, sheet_name='TaxesByCo')\n",
    "raw_total_res_tax = pd.read_excel(file, dtype=dtype, sheet_name='Class4ResTaxesByCo')\n",
    "population = pd.read_excel(file, dtype=dtype, sheet_name='County Population')\n",
    "\n",
    "inflation = pd.read_excel('raw/bls-cpi-history.xlsx')"
   ]
  },
  {
   "cell_type": "code",
   "execution_count": 4,
   "metadata": {},
   "outputs": [
    {
     "data": {
      "text/html": [
       "<div>\n",
       "<style scoped>\n",
       "    .dataframe tbody tr th:only-of-type {\n",
       "        vertical-align: middle;\n",
       "    }\n",
       "\n",
       "    .dataframe tbody tr th {\n",
       "        vertical-align: top;\n",
       "    }\n",
       "\n",
       "    .dataframe thead th {\n",
       "        text-align: right;\n",
       "    }\n",
       "</style>\n",
       "<table border=\"1\" class=\"dataframe\">\n",
       "  <thead>\n",
       "    <tr style=\"text-align: right;\">\n",
       "      <th></th>\n",
       "      <th>year</th>\n",
       "      <th>month</th>\n",
       "      <th>rel_cpi</th>\n",
       "    </tr>\n",
       "  </thead>\n",
       "  <tbody>\n",
       "    <tr>\n",
       "      <td>0</td>\n",
       "      <td>2002</td>\n",
       "      <td>June</td>\n",
       "      <td>1.00</td>\n",
       "    </tr>\n",
       "    <tr>\n",
       "      <td>1</td>\n",
       "      <td>2003</td>\n",
       "      <td>June</td>\n",
       "      <td>1.02</td>\n",
       "    </tr>\n",
       "    <tr>\n",
       "      <td>2</td>\n",
       "      <td>2004</td>\n",
       "      <td>June</td>\n",
       "      <td>1.05</td>\n",
       "    </tr>\n",
       "    <tr>\n",
       "      <td>3</td>\n",
       "      <td>2005</td>\n",
       "      <td>June</td>\n",
       "      <td>1.08</td>\n",
       "    </tr>\n",
       "    <tr>\n",
       "      <td>4</td>\n",
       "      <td>2006</td>\n",
       "      <td>June</td>\n",
       "      <td>1.13</td>\n",
       "    </tr>\n",
       "  </tbody>\n",
       "</table>\n",
       "</div>"
      ],
      "text/plain": [
       "   year month  rel_cpi\n",
       "0  2002  June     1.00\n",
       "1  2003  June     1.02\n",
       "2  2004  June     1.05\n",
       "3  2005  June     1.08\n",
       "4  2006  June     1.13"
      ]
     },
     "execution_count": 4,
     "metadata": {},
     "output_type": "execute_result"
    }
   ],
   "source": [
    "inflation.head()"
   ]
  },
  {
   "cell_type": "code",
   "execution_count": 11,
   "metadata": {},
   "outputs": [],
   "source": [
    "df = pd.concat([population.sum(), raw_total_res_tax[:56].sum(), raw_total_tax[:56].sum()], axis=1)\n",
    "df.columns = ['population','residential_tax_collections','total_tax_collections']\n",
    "df = df[2:]"
   ]
  },
  {
   "cell_type": "code",
   "execution_count": 12,
   "metadata": {},
   "outputs": [],
   "source": [
    "df['total_per_capita'] = df['total_tax_collections'] / df['population']\n",
    "df['res_per_capita'] = df['residential_tax_collections'] / df['population']\n",
    "df = df.reset_index().rename(columns={'index':'year'})\n",
    "df = df.merge(inflation[['year','rel_cpi']], on='year')"
   ]
  },
  {
   "cell_type": "code",
   "execution_count": 17,
   "metadata": {},
   "outputs": [],
   "source": [
    "base_total = df.iloc[0]['total_per_capita']\n",
    "df['total_inflationary_increase'] = base_total * df['rel_cpi']"
   ]
  },
  {
   "cell_type": "code",
   "execution_count": 18,
   "metadata": {},
   "outputs": [
    {
     "data": {
      "text/html": [
       "<div>\n",
       "<style scoped>\n",
       "    .dataframe tbody tr th:only-of-type {\n",
       "        vertical-align: middle;\n",
       "    }\n",
       "\n",
       "    .dataframe tbody tr th {\n",
       "        vertical-align: top;\n",
       "    }\n",
       "\n",
       "    .dataframe thead th {\n",
       "        text-align: right;\n",
       "    }\n",
       "</style>\n",
       "<table border=\"1\" class=\"dataframe\">\n",
       "  <thead>\n",
       "    <tr style=\"text-align: right;\">\n",
       "      <th></th>\n",
       "      <th>year</th>\n",
       "      <th>population</th>\n",
       "      <th>residential_tax_collections</th>\n",
       "      <th>total_tax_collections</th>\n",
       "      <th>total_per_capita</th>\n",
       "      <th>res_per_capita</th>\n",
       "      <th>rel_cpi</th>\n",
       "      <th>total_inflationary_increase</th>\n",
       "    </tr>\n",
       "  </thead>\n",
       "  <tbody>\n",
       "    <tr>\n",
       "      <td>0</td>\n",
       "      <td>2002</td>\n",
       "      <td>911667</td>\n",
       "      <td>3.60068e+08</td>\n",
       "      <td>8.03576e+08</td>\n",
       "      <td>881.436</td>\n",
       "      <td>394.955</td>\n",
       "      <td>1.00</td>\n",
       "      <td>881.435810</td>\n",
       "    </tr>\n",
       "    <tr>\n",
       "      <td>1</td>\n",
       "      <td>2003</td>\n",
       "      <td>919630</td>\n",
       "      <td>3.84529e+08</td>\n",
       "      <td>8.46035e+08</td>\n",
       "      <td>919.973</td>\n",
       "      <td>418.134</td>\n",
       "      <td>1.02</td>\n",
       "      <td>899.064526</td>\n",
       "    </tr>\n",
       "    <tr>\n",
       "      <td>2</td>\n",
       "      <td>2004</td>\n",
       "      <td>930009</td>\n",
       "      <td>4.20479e+08</td>\n",
       "      <td>9.05352e+08</td>\n",
       "      <td>973.488</td>\n",
       "      <td>452.123</td>\n",
       "      <td>1.05</td>\n",
       "      <td>925.507600</td>\n",
       "    </tr>\n",
       "    <tr>\n",
       "      <td>3</td>\n",
       "      <td>2005</td>\n",
       "      <td>940102</td>\n",
       "      <td>4.50839e+08</td>\n",
       "      <td>9.68321e+08</td>\n",
       "      <td>1030.02</td>\n",
       "      <td>479.564</td>\n",
       "      <td>1.08</td>\n",
       "      <td>951.950675</td>\n",
       "    </tr>\n",
       "    <tr>\n",
       "      <td>4</td>\n",
       "      <td>2006</td>\n",
       "      <td>952692</td>\n",
       "      <td>4.76675e+08</td>\n",
       "      <td>1.01949e+09</td>\n",
       "      <td>1070.12</td>\n",
       "      <td>500.345</td>\n",
       "      <td>1.13</td>\n",
       "      <td>996.022465</td>\n",
       "    </tr>\n",
       "  </tbody>\n",
       "</table>\n",
       "</div>"
      ],
      "text/plain": [
       "   year population residential_tax_collections total_tax_collections  \\\n",
       "0  2002     911667                 3.60068e+08           8.03576e+08   \n",
       "1  2003     919630                 3.84529e+08           8.46035e+08   \n",
       "2  2004     930009                 4.20479e+08           9.05352e+08   \n",
       "3  2005     940102                 4.50839e+08           9.68321e+08   \n",
       "4  2006     952692                 4.76675e+08           1.01949e+09   \n",
       "\n",
       "  total_per_capita res_per_capita  rel_cpi  total_inflationary_increase  \n",
       "0          881.436        394.955     1.00                   881.435810  \n",
       "1          919.973        418.134     1.02                   899.064526  \n",
       "2          973.488        452.123     1.05                   925.507600  \n",
       "3          1030.02        479.564     1.08                   951.950675  \n",
       "4          1070.12        500.345     1.13                   996.022465  "
      ]
     },
     "execution_count": 18,
     "metadata": {},
     "output_type": "execute_result"
    }
   ],
   "source": [
    "df.head()"
   ]
  },
  {
   "cell_type": "code",
   "execution_count": 19,
   "metadata": {},
   "outputs": [],
   "source": [
    "df.to_csv('data/state-tax-trend.csv', index=False)"
   ]
  },
  {
   "cell_type": "code",
   "execution_count": null,
   "metadata": {},
   "outputs": [],
   "source": []
  }
 ],
 "metadata": {
  "kernelspec": {
   "display_name": "Python 3",
   "language": "python",
   "name": "python3"
  },
  "language_info": {
   "codemirror_mode": {
    "name": "ipython",
    "version": 3
   },
   "file_extension": ".py",
   "mimetype": "text/x-python",
   "name": "python",
   "nbconvert_exporter": "python",
   "pygments_lexer": "ipython3",
   "version": "3.6.4"
  }
 },
 "nbformat": 4,
 "nbformat_minor": 4
}
